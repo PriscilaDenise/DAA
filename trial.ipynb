{
 "cells": [
  {
   "cell_type": "code",
   "execution_count": 1,
   "metadata": {},
   "outputs": [
    {
     "name": "stdout",
     "output_type": "stream",
     "text": [
      "hey👋\n"
     ]
    }
   ],
   "source": [
    "print(\"hey👋\")\n"
   ]
  },
  {
   "cell_type": "code",
   "execution_count": 2,
   "metadata": {},
   "outputs": [
    {
     "name": "stdout",
     "output_type": "stream",
     "text": [
      "True\n",
      "False\n"
     ]
    }
   ],
   "source": [
    "var = 0  # Assigning 0 to var\n",
    "print(var == 0)\n",
    "\n",
    "var = 1  # Assigning 1 to var\n",
    "print(var == 0)"
   ]
  },
  {
   "cell_type": "code",
   "execution_count": 3,
   "metadata": {},
   "outputs": [
    {
     "name": "stdout",
     "output_type": "stream",
     "text": [
      "False\n",
      "True\n"
     ]
    }
   ],
   "source": [
    "var = 0  # Assigning 0 to var\n",
    "print(var != 0)\n",
    "\n",
    "var = 1  # Assigning 1 to var\n",
    "print(var != 0)\n",
    "\n"
   ]
  },
  {
   "cell_type": "code",
   "execution_count": 4,
   "metadata": {},
   "outputs": [
    {
     "ename": "NameError",
     "evalue": "name 'black_sheep' is not defined",
     "output_type": "error",
     "traceback": [
      "\u001b[0;31m---------------------------------------------------------------------------\u001b[0m",
      "\u001b[0;31mNameError\u001b[0m                                 Traceback (most recent call last)",
      "Cell \u001b[0;32mIn[4], line 1\u001b[0m\n\u001b[0;32m----> 1\u001b[0m \u001b[43mblack_sheep\u001b[49m \u001b[38;5;241m>\u001b[39m white_sheep  \u001b[38;5;66;03m# Greater than\u001b[39;00m\n",
      "\u001b[0;31mNameError\u001b[0m: name 'black_sheep' is not defined"
     ]
    }
   ],
   "source": [
    "black_sheep > white_sheep  # Greater than\n",
    "\n"
   ]
  },
  {
   "cell_type": "code",
   "execution_count": null,
   "metadata": {},
   "outputs": [],
   "source": [
    "while True:\n",
    "    print(\"I'm stuck inside a loop.\")\n",
    "\n"
   ]
  },
  {
   "cell_type": "code",
   "execution_count": 7,
   "metadata": {},
   "outputs": [
    {
     "name": "stdout",
     "output_type": "stream",
     "text": [
      "Odd numbers count: 2\n",
      "Even numbers count: 4\n"
     ]
    }
   ],
   "source": [
    "# A program that reads a sequence of numbers\n",
    "# and counts how many numbers are even and how many are odd.\n",
    "# The program terminates when zero is entered.\n",
    "\n",
    "odd_numbers = 0\n",
    "even_numbers = 0\n",
    "\n",
    "# Read the first number.\n",
    "number = int(input(\"Enter a number or type 0 to stop: \"))\n",
    "\n",
    "# 0 terminates execution.\n",
    "while number != 0:\n",
    "    # Check if the number is odd.\n",
    "    if number % 2 == 1:\n",
    "        # Increase the odd_numbers counter.\n",
    "        odd_numbers += 1\n",
    "    else:\n",
    "        # Increase the even_numbers counter.\n",
    "        even_numbers += 1\n",
    "    # Read the next number.\n",
    "    number = int(input(\"Enter a number or type 0 to stop: \"))\n",
    "\n",
    "# Print results.\n",
    "print(\"Odd numbers count:\", odd_numbers)\n",
    "print(\"Even numbers count:\", even_numbers)\n",
    "\n"
   ]
  },
  {
   "cell_type": "code",
   "execution_count": 9,
   "metadata": {},
   "outputs": [
    {
     "name": "stdout",
     "output_type": "stream",
     "text": [
      "We start here.\n",
      "We end here.\n"
     ]
    }
   ],
   "source": [
    "def message():\n",
    "    print(\"Enter a value: \")\n",
    "\n",
    "print(\"We start here.\")\n",
    "print(\"We end here.\")\n",
    "\n"
   ]
  },
  {
   "cell_type": "code",
   "execution_count": 10,
   "metadata": {},
   "outputs": [
    {
     "name": "stdout",
     "output_type": "stream",
     "text": [
      "We start here.\n",
      "Enter a value: \n",
      "We end here.\n"
     ]
    }
   ],
   "source": [
    "def message():\n",
    "    print(\"Enter a value: \")\n",
    "\n",
    "print(\"We start here.\")\n",
    "message()\n",
    "print(\"We end here.\")\n"
   ]
  },
  {
   "cell_type": "code",
   "execution_count": 2,
   "metadata": {},
   "outputs": [
    {
     "name": "stdout",
     "output_type": "stream",
     "text": [
      "Hi, Denise\n"
     ]
    }
   ],
   "source": [
    "def hi(name):\n",
    "    print(\"Hi,\", name)\n",
    "\n",
    "hi(\"Denise\")\n",
    "\n"
   ]
  },
  {
   "cell_type": "code",
   "execution_count": 3,
   "metadata": {},
   "outputs": [
    {
     "name": "stdout",
     "output_type": "stream",
     "text": [
      "[1, 1, 1, 2]\n"
     ]
    }
   ],
   "source": [
    "my_list = [1, 2]\n",
    "\n",
    "for v in range(2):\n",
    "    my_list.insert(-1, my_list[v])\n",
    "\n",
    "print(my_list)\n",
    "\n"
   ]
  },
  {
   "cell_type": "code",
   "execution_count": 5,
   "metadata": {},
   "outputs": [],
   "source": [
    "z = 0\n",
    "y = 10\n",
    "x = y < z and z > y or y < z and z < y\n",
    "\n"
   ]
  },
  {
   "cell_type": "code",
   "execution_count": 6,
   "metadata": {},
   "outputs": [
    {
     "name": "stdout",
     "output_type": "stream",
     "text": [
      "[0, 1, 4, 9]\n"
     ]
    }
   ],
   "source": [
    "my_list =  [x * x for x in range(5)]\n",
    "\n",
    "\n",
    "def fun(lst):\n",
    "    del lst[lst[2]]\n",
    "    return lst\n",
    "\n",
    "\n",
    "print(fun(my_list))\n",
    "\n"
   ]
  },
  {
   "cell_type": "code",
   "execution_count": 13,
   "metadata": {},
   "outputs": [
    {
     "ename": "TypeError",
     "evalue": "hi() missing 1 required positional argument: 'course'",
     "output_type": "error",
     "traceback": [
      "\u001b[0;31m---------------------------------------------------------------------------\u001b[0m",
      "\u001b[0;31mTypeError\u001b[0m                                 Traceback (most recent call last)",
      "Cell \u001b[0;32mIn[13], line 4\u001b[0m\n\u001b[1;32m      1\u001b[0m \u001b[38;5;28;01mdef\u001b[39;00m \u001b[38;5;21mhi\u001b[39m(name, course):\n\u001b[1;32m      2\u001b[0m     \u001b[38;5;28mprint\u001b[39m(name, course)\n\u001b[0;32m----> 4\u001b[0m \u001b[43mhi\u001b[49m\u001b[43m(\u001b[49m\u001b[38;5;124;43m\"\u001b[39;49m\u001b[38;5;124;43mRESTY\u001b[39;49m\u001b[38;5;124;43m\"\u001b[39;49m\u001b[43m)\u001b[49m\n",
      "\u001b[0;31mTypeError\u001b[0m: hi() missing 1 required positional argument: 'course'"
     ]
    }
   ],
   "source": [
    "def hi(name, course):\n",
    "    print(name, course)\n",
    "\n",
    "hi(\"RESTY\")\n",
    "\n",
    "\n",
    "\n"
   ]
  },
  {
   "cell_type": "code",
   "execution_count": 14,
   "metadata": {},
   "outputs": [
    {
     "name": "stdout",
     "output_type": "stream",
     "text": [
      "12 12\n"
     ]
    }
   ],
   "source": [
    "x = 10\n",
    "y = 12\n",
    "x = y\n",
    "print(x, y)"
   ]
  },
  {
   "cell_type": "code",
   "execution_count": 15,
   "metadata": {},
   "outputs": [
    {
     "name": "stdout",
     "output_type": "stream",
     "text": [
      "4\n"
     ]
    }
   ],
   "source": [
    "x = [1, 2, 3, 4]\n",
    "print(x[-1])"
   ]
  },
  {
   "cell_type": "code",
   "execution_count": 16,
   "metadata": {},
   "outputs": [
    {
     "name": "stdout",
     "output_type": "stream",
     "text": [
      "11\n"
     ]
    }
   ],
   "source": [
    "def mystery_function(num):\n",
    "    return num * 2 + 1\n",
    "\n",
    "result = mystery_function(5)\n",
    "print(result)"
   ]
  },
  {
   "cell_type": "code",
   "execution_count": 17,
   "metadata": {},
   "outputs": [
    {
     "name": "stdout",
     "output_type": "stream",
     "text": [
      "Negative\n"
     ]
    }
   ],
   "source": [
    "def is_positive(num):\n",
    "    if num > 0:\n",
    "        return \"Positive\"\n",
    "    elif num < 0:\n",
    "        return \"Negative\"\n",
    "    else:\n",
    "        return \"Zero\"\n",
    "\n",
    "print(is_positive(-5))"
   ]
  },
  {
   "cell_type": "code",
   "execution_count": 18,
   "metadata": {},
   "outputs": [
    {
     "name": "stdout",
     "output_type": "stream",
     "text": [
      "8\n"
     ]
    }
   ],
   "source": [
    "def absolute_value(x):\n",
    "    if x < 0:\n",
    "        return -x\n",
    "    else:\n",
    "        return x\n",
    "\n",
    "print(absolute_value(-8))"
   ]
  },
  {
   "cell_type": "code",
   "execution_count": 19,
   "metadata": {},
   "outputs": [
    {
     "name": "stdout",
     "output_type": "stream",
     "text": [
      "4\n"
     ]
    }
   ],
   "source": [
    "x = [1, 2, 3, 4]\n",
    "print(x[-1])\n"
   ]
  },
  {
   "cell_type": "code",
   "execution_count": 20,
   "metadata": {},
   "outputs": [
    {
     "name": "stdout",
     "output_type": "stream",
     "text": [
      "11\n"
     ]
    }
   ],
   "source": [
    "def mystery_function(num):\n",
    "    return num * 2 + 1\n",
    "\n",
    "result = mystery_function(5)\n",
    "print(result)"
   ]
  }
 ],
 "metadata": {
  "kernelspec": {
   "display_name": "Python 3",
   "language": "python",
   "name": "python3"
  },
  "language_info": {
   "codemirror_mode": {
    "name": "ipython",
    "version": 3
   },
   "file_extension": ".py",
   "mimetype": "text/x-python",
   "name": "python",
   "nbconvert_exporter": "python",
   "pygments_lexer": "ipython3",
   "version": "3.12.5"
  }
 },
 "nbformat": 4,
 "nbformat_minor": 2
}
